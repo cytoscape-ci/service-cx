{
 "cells": [
  {
   "cell_type": "code",
   "execution_count": null,
   "metadata": {
    "collapsed": true
   },
   "outputs": [],
   "source": [
    "import json, requests\n",
    "\n",
    "# BASE = \"http://localhost:3000/\" # Local machine\n",
    "BASE = \"http://192.168.99.100:3000/\" # Local Docker instance\n",
    "# BASE = \"http://192.168.99.100:8080/cx/v1/\" # Agent on Docker\n",
    "\n",
    "def jprint(data):\n",
    "    print(json.dumps(data, indent=4))"
   ]
  },
  {
   "cell_type": "code",
   "execution_count": null,
   "metadata": {
    "collapsed": true
   },
   "outputs": [],
   "source": [
    "# Load sample CX file\n",
    "with open(\"galcxStyle2.json\") as json_file:\n",
    "    cx = json.load(json_file)"
   ]
  },
  {
   "cell_type": "code",
   "execution_count": null,
   "metadata": {
    "collapsed": false
   },
   "outputs": [],
   "source": [
    "# %%timeit -n 10\n",
    "# From CX to Cytoscape.js JSON\n",
    "res = requests.post(BASE + \"converter/cx2cyjs\", json=cx)\n",
    "cyjsJson = res.json()\n",
    "\n",
    "jprint(cyjsJson)"
   ]
  },
  {
   "cell_type": "code",
   "execution_count": null,
   "metadata": {
    "collapsed": false
   },
   "outputs": [],
   "source": [
    "# From CX to SIF\n",
    "res = requests.post(BASE + \"converter/cx2sif\", json=cx)\n",
    "sif = res.content\n",
    "\n",
    "print(sif.decode(\"utf-8\"))"
   ]
  }
 ],
 "metadata": {
  "kernelspec": {
   "display_name": "Python 3",
   "language": "python",
   "name": "python3"
  },
  "language_info": {
   "codemirror_mode": {
    "name": "ipython",
    "version": 3
   },
   "file_extension": ".py",
   "mimetype": "text/x-python",
   "name": "python",
   "nbconvert_exporter": "python",
   "pygments_lexer": "ipython3",
   "version": "3.4.3"
  }
 },
 "nbformat": 4,
 "nbformat_minor": 0
}
